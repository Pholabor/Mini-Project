{
 "cells": [
  {
   "cell_type": "code",
   "execution_count": 1,
   "id": "f8444d43",
   "metadata": {
    "execution": {
     "iopub.execute_input": "2022-10-25T14:22:04.347139Z",
     "iopub.status.busy": "2022-10-25T14:22:04.346631Z",
     "iopub.status.idle": "2022-10-25T14:22:04.358531Z",
     "shell.execute_reply": "2022-10-25T14:22:04.357154Z"
    },
    "papermill": {
     "duration": 0.02249,
     "end_time": "2022-10-25T14:22:04.360363",
     "exception": true,
     "start_time": "2022-10-25T14:22:04.337873",
     "status": "failed"
    },
    "tags": []
   },
   "outputs": [
    {
     "ename": "SyntaxError",
     "evalue": "invalid syntax (24186900.py, line 1)",
     "output_type": "error",
     "traceback": [
      "\u001b[0;36m  File \u001b[0;32m\"/tmp/ipykernel_19/24186900.py\"\u001b[0;36m, line \u001b[0;32m1\u001b[0m\n\u001b[0;31m    **This notebook is an exercise in the [Data Visualization](https://www.kaggle.com/learn/data-visualization) course.  You can reference the tutorial at [this link](https://www.kaggle.com/alexisbcook/final-project).**\u001b[0m\n\u001b[0m     ^\u001b[0m\n\u001b[0;31mSyntaxError\u001b[0m\u001b[0;31m:\u001b[0m invalid syntax\n"
     ]
    }
   ],
   "source": [
    "**This notebook is an exercise in the [Data Visualization](https://www.kaggle.com/learn/data-visualization) course.  You can reference the tutorial at [this link](https://www.kaggle.com/alexisbcook/final-project).**\n",
    "\n",
    "---\n"
   ]
  },
  {
   "cell_type": "code",
   "execution_count": null,
   "id": "78696ce6",
   "metadata": {
    "papermill": {
     "duration": null,
     "end_time": null,
     "exception": null,
     "start_time": null,
     "status": "pending"
    },
    "tags": []
   },
   "outputs": [],
   "source": []
  },
  {
   "cell_type": "markdown",
   "id": "04aa3d9e",
   "metadata": {
    "papermill": {
     "duration": null,
     "end_time": null,
     "exception": null,
     "start_time": null,
     "status": "pending"
    },
    "tags": []
   },
   "source": [
    "Now it's time for you to demonstrate your new skills with a project of your own!\n",
    "\n",
    "In this exercise, you will work with a dataset of your choosing.  Once you've selected a dataset, you'll design and create your own plot to tell interesting stories behind the data!\n",
    "\n",
    "## Setup\n",
    "\n",
    "Run the next cell to import and configure the Python libraries that you need to complete the exercise."
   ]
  },
  {
   "cell_type": "code",
   "execution_count": null,
   "id": "b1d1264e",
   "metadata": {
    "execution": {
     "iopub.execute_input": "2022-10-25T13:35:49.972821Z",
     "iopub.status.busy": "2022-10-25T13:35:49.972393Z",
     "iopub.status.idle": "2022-10-25T13:35:50.642553Z",
     "shell.execute_reply": "2022-10-25T13:35:50.641209Z",
     "shell.execute_reply.started": "2022-10-25T13:35:49.972784Z"
    },
    "papermill": {
     "duration": null,
     "end_time": null,
     "exception": null,
     "start_time": null,
     "status": "pending"
    },
    "tags": []
   },
   "outputs": [],
   "source": [
    "import pandas as pd\n",
    "pd.plotting.register_matplotlib_converters()\n",
    "import matplotlib.pyplot as plt\n",
    "%matplotlib inline\n",
    "import seaborn as sns\n",
    "print(\"Setup Complete\")"
   ]
  },
  {
   "cell_type": "markdown",
   "id": "b95dadb4",
   "metadata": {
    "papermill": {
     "duration": null,
     "end_time": null,
     "exception": null,
     "start_time": null,
     "status": "pending"
    },
    "tags": []
   },
   "source": [
    "The questions below will give you feedback on your work. Run the following cell to set up the feedback system."
   ]
  },
  {
   "cell_type": "code",
   "execution_count": null,
   "id": "b3902ca6",
   "metadata": {
    "execution": {
     "iopub.execute_input": "2022-10-25T11:36:49.856578Z",
     "iopub.status.busy": "2022-10-25T11:36:49.856151Z",
     "iopub.status.idle": "2022-10-25T11:36:49.891921Z",
     "shell.execute_reply": "2022-10-25T11:36:49.890673Z",
     "shell.execute_reply.started": "2022-10-25T11:36:49.856543Z"
    },
    "papermill": {
     "duration": null,
     "end_time": null,
     "exception": null,
     "start_time": null,
     "status": "pending"
    },
    "tags": []
   },
   "outputs": [],
   "source": [
    "# Set up code checking\n",
    "from learntools.core import binder\n",
    "binder.bind(globals())\n",
    "from learntools.data_viz_to_coder.ex7 import *\n",
    "print(\"Setup Complete\")"
   ]
  },
  {
   "cell_type": "code",
   "execution_count": null,
   "id": "a143a270",
   "metadata": {
    "papermill": {
     "duration": null,
     "end_time": null,
     "exception": null,
     "start_time": null,
     "status": "pending"
    },
    "tags": []
   },
   "outputs": [],
   "source": []
  },
  {
   "cell_type": "markdown",
   "id": "f05b5385",
   "metadata": {
    "papermill": {
     "duration": null,
     "end_time": null,
     "exception": null,
     "start_time": null,
     "status": "pending"
    },
    "tags": []
   },
   "source": [
    "## Step 1: Attach a dataset to the notebook\n",
    "\n",
    "Begin by selecting a CSV dataset from [Kaggle Datasets](https://www.kaggle.com/datasets).  If you're unsure how to do this, please revisit the instructions in the previous tutorial.\n",
    "\n",
    "Once you have selected a dataset, click on the **[+ Add data]** option in the top right corner.  This will generate a pop-up window that you can use to search for your chosen dataset.  \n",
    "\n",
    "![ex6_search_dataset](https://i.imgur.com/cIIWPUS.png)\n",
    "\n",
    "Once you have found the dataset, click on the **[Add]** button to attach it to the notebook.  You can check that it was successful by looking at the **Data** dropdown menu to the right of the notebook -- look for an **input** folder containing a subfolder that matches the name of the dataset.\n",
    "\n",
    "<center>\n",
    "<img src=\"https://i.imgur.com/nMYc1Nu.png\" width=30%><br/>\n",
    "</center>\n",
    "\n",
    "You can click on the carat to the left of the name of the dataset to double-check that it contains a CSV file.  For instance, the image below shows that the example dataset contains two CSV files: (1) **dc-wikia-data.csv**, and (2) **marvel-wikia-data.csv**.\n",
    "\n",
    "<center>\n",
    "<img src=\"https://i.imgur.com/B4sJkVA.png\" width=30%><br/>\n",
    "</center>\n",
    "\n",
    "Once you've uploaded a dataset with a CSV file, run the code cell below **without changes** to receive credit for your work!"
   ]
  },
  {
   "cell_type": "code",
   "execution_count": null,
   "id": "7df59b66",
   "metadata": {
    "execution": {
     "iopub.execute_input": "2022-10-25T13:36:34.595136Z",
     "iopub.status.busy": "2022-10-25T13:36:34.594690Z",
     "iopub.status.idle": "2022-10-25T13:36:34.602454Z",
     "shell.execute_reply": "2022-10-25T13:36:34.601005Z",
     "shell.execute_reply.started": "2022-10-25T13:36:34.595104Z"
    },
    "papermill": {
     "duration": null,
     "end_time": null,
     "exception": null,
     "start_time": null,
     "status": "pending"
    },
    "tags": []
   },
   "outputs": [],
   "source": [
    "# Check for a dataset with a CSV file\n",
    "step_1.check()"
   ]
  },
  {
   "cell_type": "code",
   "execution_count": null,
   "id": "a4710fe9",
   "metadata": {
    "execution": {
     "iopub.execute_input": "2022-10-25T13:33:45.243541Z",
     "iopub.status.busy": "2022-10-25T13:33:45.242944Z",
     "iopub.status.idle": "2022-10-25T13:33:45.282935Z",
     "shell.execute_reply": "2022-10-25T13:33:45.281312Z",
     "shell.execute_reply.started": "2022-10-25T13:33:45.243437Z"
    },
    "papermill": {
     "duration": null,
     "end_time": null,
     "exception": null,
     "start_time": null,
     "status": "pending"
    },
    "tags": []
   },
   "outputs": [],
   "source": [
    "## Step 2: Specify the filepath\n",
    "\n",
    "Now that the dataset is attached to the notebook, you can find its filepath.  To do this, begin by clicking on the CSV file you'd like to use.  This will open the CSV file in a tab below the notebook.  You can find the filepath towards the top of this new tab.  \n",
    "\n",
    "![ex6_filepath](https://i.imgur.com/fgXQV47.png)\n",
    "\n",
    "After you find the filepath corresponding to your dataset, fill it in as the value for `my_filepath` in the code cell below, and run the code cell to check that you've provided a valid filepath.  For instance, in the case of this example dataset, we would set\n",
    "```\n",
    "my_filepath = \"../input/fivethirtyeight-comic-characters-dataset/dc-wikia-data.csv\"\n",
    "```  \n",
    "Note that **you must enclose the filepath in quotation marks**; otherwise, the code will return an error.\n",
    "\n",
    "Once you've entered the filepath, you can close the tab below the notebook by clicking on the **[X]** at the top of the tab."
   ]
  },
  {
   "cell_type": "code",
   "execution_count": null,
   "id": "0e31b100",
   "metadata": {
    "papermill": {
     "duration": null,
     "end_time": null,
     "exception": null,
     "start_time": null,
     "status": "pending"
    },
    "tags": []
   },
   "outputs": [],
   "source": [
    "# Fill in the line below: Specify the path of the CSV file to read\n",
    "my_filepath = \"../input/nflstatistics/Basic_Stats.csv\"\n",
    "\n",
    "# Check for a valid filepath to a CSV file in a dataset\n",
    "step_2.check()"
   ]
  },
  {
   "cell_type": "markdown",
   "id": "bbfd5192",
   "metadata": {
    "papermill": {
     "duration": null,
     "end_time": null,
     "exception": null,
     "start_time": null,
     "status": "pending"
    },
    "tags": []
   },
   "source": [
    "## Step 3: Load the data\n",
    "\n",
    "Use the next code cell to load your data file into `my_data`.  Use the filepath that you specified in the previous step."
   ]
  },
  {
   "cell_type": "code",
   "execution_count": null,
   "id": "c7d5f1bb",
   "metadata": {
    "execution": {
     "iopub.execute_input": "2022-10-25T13:38:44.418113Z",
     "iopub.status.busy": "2022-10-25T13:38:44.417707Z",
     "iopub.status.idle": "2022-10-25T13:38:44.519930Z",
     "shell.execute_reply": "2022-10-25T13:38:44.518766Z",
     "shell.execute_reply.started": "2022-10-25T13:38:44.418081Z"
    },
    "papermill": {
     "duration": null,
     "end_time": null,
     "exception": null,
     "start_time": null,
     "status": "pending"
    },
    "tags": []
   },
   "outputs": [],
   "source": [
    "# Fill in the line below: Read the file into a variable my_data\n",
    "my_data = pd.read_csv(\"../input/nflstatistics/Basic_Stats.csv\")\n",
    "my_data\n",
    "# Check that a dataset has been uploaded into my_data\n"
   ]
  },
  {
   "cell_type": "markdown",
   "id": "a5ad688c",
   "metadata": {
    "papermill": {
     "duration": null,
     "end_time": null,
     "exception": null,
     "start_time": null,
     "status": "pending"
    },
    "tags": []
   },
   "source": [
    "**_After the code cell above is marked correct_**, run the code cell below without changes to view the first five rows of the data."
   ]
  },
  {
   "cell_type": "code",
   "execution_count": null,
   "id": "1fbc5377",
   "metadata": {
    "execution": {
     "iopub.execute_input": "2022-10-25T13:39:04.875318Z",
     "iopub.status.busy": "2022-10-25T13:39:04.874411Z",
     "iopub.status.idle": "2022-10-25T13:39:04.907150Z",
     "shell.execute_reply": "2022-10-25T13:39:04.905661Z",
     "shell.execute_reply.started": "2022-10-25T13:39:04.875269Z"
    },
    "papermill": {
     "duration": null,
     "end_time": null,
     "exception": null,
     "start_time": null,
     "status": "pending"
    },
    "tags": []
   },
   "outputs": [],
   "source": [
    "# Print the first five rows of the data\n",
    "my_data.head()"
   ]
  },
  {
   "cell_type": "code",
   "execution_count": null,
   "id": "e43eae89",
   "metadata": {
    "execution": {
     "iopub.execute_input": "2022-10-25T13:47:36.029449Z",
     "iopub.status.busy": "2022-10-25T13:47:36.029068Z",
     "iopub.status.idle": "2022-10-25T13:47:36.042726Z",
     "shell.execute_reply": "2022-10-25T13:47:36.041471Z",
     "shell.execute_reply.started": "2022-10-25T13:47:36.029419Z"
    },
    "papermill": {
     "duration": null,
     "end_time": null,
     "exception": null,
     "start_time": null,
     "status": "pending"
    },
    "tags": []
   },
   "outputs": [],
   "source": [
    "my_data['Age'].mean()"
   ]
  },
  {
   "cell_type": "code",
   "execution_count": null,
   "id": "e199a741",
   "metadata": {
    "execution": {
     "iopub.execute_input": "2022-10-25T13:51:18.679881Z",
     "iopub.status.busy": "2022-10-25T13:51:18.679467Z",
     "iopub.status.idle": "2022-10-25T13:51:18.692450Z",
     "shell.execute_reply": "2022-10-25T13:51:18.690999Z",
     "shell.execute_reply.started": "2022-10-25T13:51:18.679847Z"
    },
    "papermill": {
     "duration": null,
     "end_time": null,
     "exception": null,
     "start_time": null,
     "status": "pending"
    },
    "tags": []
   },
   "outputs": [],
   "source": [
    "my_data['Current Status'].unique()"
   ]
  },
  {
   "cell_type": "code",
   "execution_count": null,
   "id": "7e78296f",
   "metadata": {
    "execution": {
     "iopub.execute_input": "2022-10-25T14:04:58.969415Z",
     "iopub.status.busy": "2022-10-25T14:04:58.968976Z",
     "iopub.status.idle": "2022-10-25T14:04:59.004082Z",
     "shell.execute_reply": "2022-10-25T14:04:59.002813Z",
     "shell.execute_reply.started": "2022-10-25T14:04:58.969379Z"
    },
    "papermill": {
     "duration": null,
     "end_time": null,
     "exception": null,
     "start_time": null,
     "status": "pending"
    },
    "tags": []
   },
   "outputs": [],
   "source": [
    "# fetching players that are 35 years and active\n",
    "my_data.loc[(my_data['Age']== 35)& (my_data['Current Status']== 'Active')]\n"
   ]
  },
  {
   "cell_type": "markdown",
   "id": "b38ac732",
   "metadata": {
    "papermill": {
     "duration": null,
     "end_time": null,
     "exception": null,
     "start_time": null,
     "status": "pending"
    },
    "tags": []
   },
   "source": [
    "## Step 4: Visualize the data\n",
    "\n",
    "Use the next code cell to create a figure that tells a story behind your dataset.  You can use any chart type (_line chart, bar chart, heatmap, etc_) of your choosing!"
   ]
  },
  {
   "cell_type": "code",
   "execution_count": null,
   "id": "ebebb56c",
   "metadata": {
    "execution": {
     "iopub.execute_input": "2022-10-25T14:07:15.915310Z",
     "iopub.status.busy": "2022-10-25T14:07:15.914869Z",
     "iopub.status.idle": "2022-10-25T14:07:16.973985Z",
     "shell.execute_reply": "2022-10-25T14:07:16.972651Z",
     "shell.execute_reply.started": "2022-10-25T14:07:15.915274Z"
    },
    "papermill": {
     "duration": null,
     "end_time": null,
     "exception": null,
     "start_time": null,
     "status": "pending"
    },
    "tags": []
   },
   "outputs": [],
   "source": [
    "# Create a plot\n",
    "plt.figure(figsize=(25, 15))\n",
    "\n",
    "#set the title\n",
    "plt.title('Weight and Height of Players of 35 years ')\n",
    "\n",
    "#the bar chart\n",
    "ax = sns.barplot(x= my_data['Height (inches)'], y=my_data['Weight (lbs)'], )\n",
    "ax.set_xticklabels(ax.get_xticklabels(), rotation =90)\n",
    "#set the y axis label\n",
    "plt.ylabel('Weight (lbs)')\n",
    "plt.xlabel('Height (inches)')# Your code here\n",
    "\n",
    "\n",
    "# Check that a figure appears below\n"
   ]
  },
  {
   "cell_type": "markdown",
   "id": "31b7e2c6",
   "metadata": {
    "papermill": {
     "duration": null,
     "end_time": null,
     "exception": null,
     "start_time": null,
     "status": "pending"
    },
    "tags": []
   },
   "source": [
    "## Keep going\n",
    "\n",
    "Learn how to use your skills after completing the micro-course to create data visualizations in a **[final tutorial](https://www.kaggle.com/alexisbcook/creating-your-own-notebooks)**."
   ]
  },
  {
   "cell_type": "markdown",
   "id": "cb389493",
   "metadata": {
    "papermill": {
     "duration": null,
     "end_time": null,
     "exception": null,
     "start_time": null,
     "status": "pending"
    },
    "tags": []
   },
   "source": [
    "---\n",
    "\n",
    "\n",
    "\n",
    "\n",
    "*Have questions or comments? Visit the [course discussion forum](https://www.kaggle.com/learn/data-visualization/discussion) to chat with other learners.*"
   ]
  }
 ],
 "metadata": {
  "kernelspec": {
   "display_name": "Python 3",
   "language": "python",
   "name": "python3"
  },
  "language_info": {
   "codemirror_mode": {
    "name": "ipython",
    "version": 3
   },
   "file_extension": ".py",
   "mimetype": "text/x-python",
   "name": "python",
   "nbconvert_exporter": "python",
   "pygments_lexer": "ipython3",
   "version": "3.7.12"
  },
  "papermill": {
   "default_parameters": {},
   "duration": 9.180329,
   "end_time": "2022-10-25T14:22:05.086488",
   "environment_variables": {},
   "exception": true,
   "input_path": "__notebook__.ipynb",
   "output_path": "__notebook__.ipynb",
   "parameters": {},
   "start_time": "2022-10-25T14:21:55.906159",
   "version": "2.3.4"
  }
 },
 "nbformat": 4,
 "nbformat_minor": 5
}
